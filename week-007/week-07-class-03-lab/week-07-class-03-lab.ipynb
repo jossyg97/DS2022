{
 "cells": [
  {
   "cell_type": "markdown",
   "metadata": {},
   "source": [
    "<div style=\"background: #000;\n",
    "            color: #FFF;\n",
    "            margin: 0px;\n",
    "                padding: 10px 0px 20px 0px;\n",
    "            text-align: center; \n",
    "                \">\n",
    "    <h1>Week 7 - Class 3 - Lab</h1>\n",
    "</div>\n"
   ]
  },
  {
   "cell_type": "markdown",
   "metadata": {},
   "source": [
    "# Question 1\n",
    "\n",
    "Where should you go to understand how the project is intended to be used? Copy and paste the content of that file below:"
   ]
  },
  {
   "cell_type": "markdown",
   "metadata": {},
   "source": [
    "# Exercise 1\n",
    "\n",
    "Fix the following code so that the two numbers are added together using the add_two_numbers.py file:"
   ]
  },
  {
   "cell_type": "code",
   "execution_count": 17,
   "metadata": {},
   "outputs": [
    {
     "name": "stdout",
     "output_type": "stream",
     "text": [
      "4.0 + 5.0 = 9.0\n"
     ]
    }
   ],
   "source": [
    "from scripts.add_two_numbers import summing\n",
    "\n",
    "a = float(input(\"Enter a number: \", ))\n",
    "b = float(input(\"Enter another number: \", ))\n",
    "\n",
    "the_sum_of_two_numbers = summing(a,b)\n",
    "\n",
    "print(f'{a} + {b} = {the_sum_of_two_numbers}')\n",
    "\n",
    "\n"
   ]
  },
  {
   "cell_type": "markdown",
   "metadata": {},
   "source": [
    "# Exercise 2\n",
    "\n",
    "Fix the following code so that the two numbers are multiplied together using the multiply_two_numbers.py file:"
   ]
  },
  {
   "cell_type": "code",
   "execution_count": 19,
   "metadata": {},
   "outputs": [
    {
     "name": "stdout",
     "output_type": "stream",
     "text": [
      "5 x 4 = 20\n"
     ]
    }
   ],
   "source": [
    "from scripts.one_more_folder.multiply_two_numbers import multiplying\n",
    "\n",
    "a = int(input(\"Enter a number: \", ))\n",
    "b = int(input(\"Enter another number: \", ))\n",
    "\n",
    "the_multiplication_of_two_numbers = multiplying(a,b)\n",
    "\n",
    "print(f'{a} x {b} = {the_multiplication_of_two_numbers}')"
   ]
  },
  {
   "cell_type": "markdown",
   "metadata": {},
   "source": [
    "# Exercise 3\n",
    "\n",
    "Fix the following code so that it utilizes all four operation files:"
   ]
  },
  {
   "cell_type": "code",
   "execution_count": 21,
   "metadata": {},
   "outputs": [
    {
     "name": "stdout",
     "output_type": "stream",
     "text": [
      "This is a:  4\n",
      "This is b:  5\n",
      "Result of addition:  9\n",
      "Result of subtraction:  -1\n",
      "Result of multiplication:  20\n",
      "Result of division:  0.8\n"
     ]
    }
   ],
   "source": [
    "from scripts.add_two_numbers import summing\n",
    "from scripts.subtract_two_numbers import subtracting\n",
    "from scripts.one_more_folder.multiply_two_numbers import multiplying\n",
    "from divide_two_numbers import dividing\n",
    "\n",
    "class Math_Operations:\n",
    "  def __init__(self, a, b):\n",
    "    self.a = a\n",
    "    self.b = b\n",
    "\n",
    "  def add_something(self):\n",
    "      c = summing(self.a,self.b)\n",
    "      return c\n",
    "\n",
    "  def subtract_something(self):\n",
    "      d = subtracting(self.a,self.b)\n",
    "      return d\n",
    "\n",
    "  def multiply_something(self):\n",
    "      e = multiplying(self.a,self.b)\n",
    "      return e\n",
    "\n",
    "  def divide_something(self):\n",
    "      f = dividing(self.a,self.b)\n",
    "      return f\n",
    "\n",
    "a = int(input(\"Enter a number: \", ))\n",
    "b = int(input(\"Enter another number: \", ))\n",
    "\n",
    "operations = Math_Operations(a,b)\n",
    "\n",
    "print(\"This is a: \", a)\n",
    "print(\"This is b: \", b)\n",
    "print(\"Result of addition: \", operations.add_something())\n",
    "print(\"Result of subtraction: \", operations.subtract_something())\n",
    "print(\"Result of multiplication: \", operations.multiply_something())\n",
    "print(\"Result of division: \", operations.divide_something())\n",
    "\n"
   ]
  }
 ],
 "metadata": {
  "interpreter": {
   "hash": "aee8b7b246df8f9039afb4144a1f6fd8d2ca17a180786b69acc140d282b71a49"
  },
  "kernelspec": {
   "display_name": "Python 3.9.5 64-bit",
   "name": "python3"
  },
  "language_info": {
   "codemirror_mode": {
    "name": "ipython",
    "version": 3
   },
   "file_extension": ".py",
   "mimetype": "text/x-python",
   "name": "python",
   "nbconvert_exporter": "python",
   "pygments_lexer": "ipython3",
   "version": "3.9.5"
  },
  "orig_nbformat": 4
 },
 "nbformat": 4,
 "nbformat_minor": 2
}
